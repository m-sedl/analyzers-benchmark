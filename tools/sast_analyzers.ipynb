{
  "nbformat": 4,
  "nbformat_minor": 0,
  "metadata": {
    "colab": {
      "provenance": [],
      "mount_file_id": "1llsUgeoTdTevl7N7qqVHChoLbEBnNIFz",
      "authorship_tag": "ABX9TyMKCCGC/7+DpNvsDX9YeynO",
      "include_colab_link": true
    },
    "kernelspec": {
      "name": "python3",
      "display_name": "Python 3"
    },
    "language_info": {
      "name": "python"
    }
  },
  "cells": [
    {
      "cell_type": "markdown",
      "metadata": {
        "id": "view-in-github",
        "colab_type": "text"
      },
      "source": [
        "<a href=\"https://colab.research.google.com/github/m-sedl/analyzers-benchmark/blob/main/tools/sast_analyzers.ipynb\" target=\"_parent\"><img src=\"https://colab.research.google.com/assets/colab-badge.svg\" alt=\"Open In Colab\"/></a>"
      ]
    },
    {
      "cell_type": "code",
      "execution_count": 19,
      "metadata": {
        "id": "kxxwZ18DI4xn"
      },
      "outputs": [],
      "source": [
        "import pandas as pd\n",
        "import numpy as np\n",
        "import seaborn as sns; sns.set(rc={'figure.figsize': (10, 6)})"
      ]
    },
    {
      "cell_type": "code",
      "source": [
        "infer_df = pd.read_csv('/content/drive/MyDrive/analyzers/infersharp.csv')\n",
        "infer_df.drop_duplicates(subset=['rule_id', 'location'], inplace=True)"
      ],
      "metadata": {
        "id": "vp2zxQK5JUKD"
      },
      "execution_count": 7,
      "outputs": []
    },
    {
      "cell_type": "code",
      "source": [
        "infer_df.shape"
      ],
      "metadata": {
        "colab": {
          "base_uri": "https://localhost:8080/"
        },
        "id": "DYJlf39PMFv7",
        "outputId": "1fb109b1-5bb5-4960-ab4c-f0d4b5ac780c"
      },
      "execution_count": 8,
      "outputs": [
        {
          "output_type": "execute_result",
          "data": {
            "text/plain": [
              "(525, 6)"
            ]
          },
          "metadata": {},
          "execution_count": 8
        }
      ]
    },
    {
      "cell_type": "code",
      "source": [
        "infer_df.head()"
      ],
      "metadata": {
        "colab": {
          "base_uri": "https://localhost:8080/",
          "height": 285
        },
        "id": "ykXGWLY_M41z",
        "outputId": "94f6549a-2c8d-4a0e-f8f7-9c59f1660cb7"
      },
      "execution_count": 9,
      "outputs": [
        {
          "output_type": "execute_result",
          "data": {
            "text/plain": [
              "            project                                            message  level  \\\n",
              "0            efcore   null (last assigned on line 96) is dereferenced.  error   \n",
              "1            efcore  null (last assigned on line 108) is dereferenced.  error   \n",
              "2            efcore  The call to `EntityTypeBuilder`1<TEntity> Enti...  error   \n",
              "3            efcore  Resource dynamically allocated by constructor ...  error   \n",
              "4  spbu-homeworks-1  Resource dynamically allocated by constructor ...  error   \n",
              "\n",
              "               rule_id                                           location  \\\n",
              "0  NULLPTR_DEREFERENCE  file:/home/msedlyarskiy/benchmark/projects/efc...   \n",
              "1  NULLPTR_DEREFERENCE  file:/home/msedlyarskiy/benchmark/projects/efc...   \n",
              "2  NULLPTR_DEREFERENCE  file:/home/msedlyarskiy/benchmark/projects/efc...   \n",
              "3  PULSE_RESOURCE_LEAK  file:/home/msedlyarskiy/benchmark/projects/efc...   \n",
              "4  PULSE_RESOURCE_LEAK  file:D:/repos/NUnit/nunit3-vs-adapter/src/NUni...   \n",
              "\n",
              "                                         report_name  \n",
              "0                      efcore_artifacts_EFCore.sarif  \n",
              "1                      efcore_artifacts_EFCore.sarif  \n",
              "2                      efcore_artifacts_EFCore.sarif  \n",
              "3                      efcore_artifacts_EFCore.sarif  \n",
              "4  spbu-homeworks-1_Semester2_Homework4_ParseTree...  "
            ],
            "text/html": [
              "\n",
              "  <div id=\"df-9c6683a2-ea00-4c56-af65-572625aa1ad3\">\n",
              "    <div class=\"colab-df-container\">\n",
              "      <div>\n",
              "<style scoped>\n",
              "    .dataframe tbody tr th:only-of-type {\n",
              "        vertical-align: middle;\n",
              "    }\n",
              "\n",
              "    .dataframe tbody tr th {\n",
              "        vertical-align: top;\n",
              "    }\n",
              "\n",
              "    .dataframe thead th {\n",
              "        text-align: right;\n",
              "    }\n",
              "</style>\n",
              "<table border=\"1\" class=\"dataframe\">\n",
              "  <thead>\n",
              "    <tr style=\"text-align: right;\">\n",
              "      <th></th>\n",
              "      <th>project</th>\n",
              "      <th>message</th>\n",
              "      <th>level</th>\n",
              "      <th>rule_id</th>\n",
              "      <th>location</th>\n",
              "      <th>report_name</th>\n",
              "    </tr>\n",
              "  </thead>\n",
              "  <tbody>\n",
              "    <tr>\n",
              "      <th>0</th>\n",
              "      <td>efcore</td>\n",
              "      <td>null (last assigned on line 96) is dereferenced.</td>\n",
              "      <td>error</td>\n",
              "      <td>NULLPTR_DEREFERENCE</td>\n",
              "      <td>file:/home/msedlyarskiy/benchmark/projects/efc...</td>\n",
              "      <td>efcore_artifacts_EFCore.sarif</td>\n",
              "    </tr>\n",
              "    <tr>\n",
              "      <th>1</th>\n",
              "      <td>efcore</td>\n",
              "      <td>null (last assigned on line 108) is dereferenced.</td>\n",
              "      <td>error</td>\n",
              "      <td>NULLPTR_DEREFERENCE</td>\n",
              "      <td>file:/home/msedlyarskiy/benchmark/projects/efc...</td>\n",
              "      <td>efcore_artifacts_EFCore.sarif</td>\n",
              "    </tr>\n",
              "    <tr>\n",
              "      <th>2</th>\n",
              "      <td>efcore</td>\n",
              "      <td>The call to `EntityTypeBuilder`1&lt;TEntity&gt; Enti...</td>\n",
              "      <td>error</td>\n",
              "      <td>NULLPTR_DEREFERENCE</td>\n",
              "      <td>file:/home/msedlyarskiy/benchmark/projects/efc...</td>\n",
              "      <td>efcore_artifacts_EFCore.sarif</td>\n",
              "    </tr>\n",
              "    <tr>\n",
              "      <th>3</th>\n",
              "      <td>efcore</td>\n",
              "      <td>Resource dynamically allocated by constructor ...</td>\n",
              "      <td>error</td>\n",
              "      <td>PULSE_RESOURCE_LEAK</td>\n",
              "      <td>file:/home/msedlyarskiy/benchmark/projects/efc...</td>\n",
              "      <td>efcore_artifacts_EFCore.sarif</td>\n",
              "    </tr>\n",
              "    <tr>\n",
              "      <th>4</th>\n",
              "      <td>spbu-homeworks-1</td>\n",
              "      <td>Resource dynamically allocated by constructor ...</td>\n",
              "      <td>error</td>\n",
              "      <td>PULSE_RESOURCE_LEAK</td>\n",
              "      <td>file:D:/repos/NUnit/nunit3-vs-adapter/src/NUni...</td>\n",
              "      <td>spbu-homeworks-1_Semester2_Homework4_ParseTree...</td>\n",
              "    </tr>\n",
              "  </tbody>\n",
              "</table>\n",
              "</div>\n",
              "      <button class=\"colab-df-convert\" onclick=\"convertToInteractive('df-9c6683a2-ea00-4c56-af65-572625aa1ad3')\"\n",
              "              title=\"Convert this dataframe to an interactive table.\"\n",
              "              style=\"display:none;\">\n",
              "        \n",
              "  <svg xmlns=\"http://www.w3.org/2000/svg\" height=\"24px\"viewBox=\"0 0 24 24\"\n",
              "       width=\"24px\">\n",
              "    <path d=\"M0 0h24v24H0V0z\" fill=\"none\"/>\n",
              "    <path d=\"M18.56 5.44l.94 2.06.94-2.06 2.06-.94-2.06-.94-.94-2.06-.94 2.06-2.06.94zm-11 1L8.5 8.5l.94-2.06 2.06-.94-2.06-.94L8.5 2.5l-.94 2.06-2.06.94zm10 10l.94 2.06.94-2.06 2.06-.94-2.06-.94-.94-2.06-.94 2.06-2.06.94z\"/><path d=\"M17.41 7.96l-1.37-1.37c-.4-.4-.92-.59-1.43-.59-.52 0-1.04.2-1.43.59L10.3 9.45l-7.72 7.72c-.78.78-.78 2.05 0 2.83L4 21.41c.39.39.9.59 1.41.59.51 0 1.02-.2 1.41-.59l7.78-7.78 2.81-2.81c.8-.78.8-2.07 0-2.86zM5.41 20L4 18.59l7.72-7.72 1.47 1.35L5.41 20z\"/>\n",
              "  </svg>\n",
              "      </button>\n",
              "      \n",
              "  <style>\n",
              "    .colab-df-container {\n",
              "      display:flex;\n",
              "      flex-wrap:wrap;\n",
              "      gap: 12px;\n",
              "    }\n",
              "\n",
              "    .colab-df-convert {\n",
              "      background-color: #E8F0FE;\n",
              "      border: none;\n",
              "      border-radius: 50%;\n",
              "      cursor: pointer;\n",
              "      display: none;\n",
              "      fill: #1967D2;\n",
              "      height: 32px;\n",
              "      padding: 0 0 0 0;\n",
              "      width: 32px;\n",
              "    }\n",
              "\n",
              "    .colab-df-convert:hover {\n",
              "      background-color: #E2EBFA;\n",
              "      box-shadow: 0px 1px 2px rgba(60, 64, 67, 0.3), 0px 1px 3px 1px rgba(60, 64, 67, 0.15);\n",
              "      fill: #174EA6;\n",
              "    }\n",
              "\n",
              "    [theme=dark] .colab-df-convert {\n",
              "      background-color: #3B4455;\n",
              "      fill: #D2E3FC;\n",
              "    }\n",
              "\n",
              "    [theme=dark] .colab-df-convert:hover {\n",
              "      background-color: #434B5C;\n",
              "      box-shadow: 0px 1px 3px 1px rgba(0, 0, 0, 0.15);\n",
              "      filter: drop-shadow(0px 1px 2px rgba(0, 0, 0, 0.3));\n",
              "      fill: #FFFFFF;\n",
              "    }\n",
              "  </style>\n",
              "\n",
              "      <script>\n",
              "        const buttonEl =\n",
              "          document.querySelector('#df-9c6683a2-ea00-4c56-af65-572625aa1ad3 button.colab-df-convert');\n",
              "        buttonEl.style.display =\n",
              "          google.colab.kernel.accessAllowed ? 'block' : 'none';\n",
              "\n",
              "        async function convertToInteractive(key) {\n",
              "          const element = document.querySelector('#df-9c6683a2-ea00-4c56-af65-572625aa1ad3');\n",
              "          const dataTable =\n",
              "            await google.colab.kernel.invokeFunction('convertToInteractive',\n",
              "                                                     [key], {});\n",
              "          if (!dataTable) return;\n",
              "\n",
              "          const docLinkHtml = 'Like what you see? Visit the ' +\n",
              "            '<a target=\"_blank\" href=https://colab.research.google.com/notebooks/data_table.ipynb>data table notebook</a>'\n",
              "            + ' to learn more about interactive tables.';\n",
              "          element.innerHTML = '';\n",
              "          dataTable['output_type'] = 'display_data';\n",
              "          await google.colab.output.renderOutput(dataTable, element);\n",
              "          const docLink = document.createElement('div');\n",
              "          docLink.innerHTML = docLinkHtml;\n",
              "          element.appendChild(docLink);\n",
              "        }\n",
              "      </script>\n",
              "    </div>\n",
              "  </div>\n",
              "  "
            ]
          },
          "metadata": {},
          "execution_count": 9
        }
      ]
    },
    {
      "cell_type": "code",
      "source": [
        "infer_df['rule_id'].value_counts()"
      ],
      "metadata": {
        "colab": {
          "base_uri": "https://localhost:8080/"
        },
        "id": "yaqWfAYbM84a",
        "outputId": "5564f255-a1a0-47ed-9fe5-839aebce3ad8"
      },
      "execution_count": 24,
      "outputs": [
        {
          "output_type": "execute_result",
          "data": {
            "text/plain": [
              "PULSE_RESOURCE_LEAK        284\n",
              "NULLPTR_DEREFERENCE        168\n",
              "THREAD_SAFETY_VIOLATION     73\n",
              "Name: rule_id, dtype: int64"
            ]
          },
          "metadata": {},
          "execution_count": 24
        }
      ]
    },
    {
      "cell_type": "code",
      "source": [
        "infer_df['project'].value_counts()"
      ],
      "metadata": {
        "colab": {
          "base_uri": "https://localhost:8080/"
        },
        "id": "ngSs_B_QNrSF",
        "outputId": "61ff0b84-d2b5-4331-e211-4fc99e9047cd"
      },
      "execution_count": 23,
      "outputs": [
        {
          "output_type": "execute_result",
          "data": {
            "text/plain": [
              "nunit.sarif         225\n",
              "NLog                149\n",
              "efcore              117\n",
              "litedb               14\n",
              "btcpayserver         14\n",
              "spbu-homeworks-1      5\n",
              "moq4                  1\n",
              "Name: project, dtype: int64"
            ]
          },
          "metadata": {},
          "execution_count": 23
        }
      ]
    },
    {
      "cell_type": "code",
      "source": [
        "infer_df['level'].value_counts()"
      ],
      "metadata": {
        "colab": {
          "base_uri": "https://localhost:8080/"
        },
        "id": "ORudwfX-QQC4",
        "outputId": "0461369f-adfc-48bb-f01f-bbdf147b1d9e"
      },
      "execution_count": 25,
      "outputs": [
        {
          "output_type": "execute_result",
          "data": {
            "text/plain": [
              "error      452\n",
              "warning     73\n",
              "Name: level, dtype: int64"
            ]
          },
          "metadata": {},
          "execution_count": 25
        }
      ]
    },
    {
      "cell_type": "code",
      "source": [
        "infer_df.groupby(['project', 'rule_id']).count()"
      ],
      "metadata": {
        "colab": {
          "base_uri": "https://localhost:8080/",
          "height": 645
        },
        "id": "gfLRo5xQRPBO",
        "outputId": "19459598-660b-4ad1-9a4b-ca1b0fa035f8"
      },
      "execution_count": 26,
      "outputs": [
        {
          "output_type": "execute_result",
          "data": {
            "text/plain": [
              "                                          message  level  location  \\\n",
              "project          rule_id                                             \n",
              "NLog             NULLPTR_DEREFERENCE           30     30        30   \n",
              "                 PULSE_RESOURCE_LEAK           75     75        75   \n",
              "                 THREAD_SAFETY_VIOLATION       44     44        44   \n",
              "btcpayserver     NULLPTR_DEREFERENCE            4      4         4   \n",
              "                 PULSE_RESOURCE_LEAK            6      6         6   \n",
              "                 THREAD_SAFETY_VIOLATION        4      4         4   \n",
              "efcore           NULLPTR_DEREFERENCE          107    107       107   \n",
              "                 PULSE_RESOURCE_LEAK            2      2         2   \n",
              "                 THREAD_SAFETY_VIOLATION        8      8         8   \n",
              "litedb           NULLPTR_DEREFERENCE            1      1         1   \n",
              "                 PULSE_RESOURCE_LEAK            7      7         7   \n",
              "                 THREAD_SAFETY_VIOLATION        6      6         6   \n",
              "moq4             PULSE_RESOURCE_LEAK            1      1         1   \n",
              "nunit.sarif      NULLPTR_DEREFERENCE           26     26        26   \n",
              "                 PULSE_RESOURCE_LEAK          192    192       192   \n",
              "                 THREAD_SAFETY_VIOLATION        7      7         7   \n",
              "spbu-homeworks-1 PULSE_RESOURCE_LEAK            1      1         1   \n",
              "                 THREAD_SAFETY_VIOLATION        4      4         4   \n",
              "\n",
              "                                          report_name  \n",
              "project          rule_id                               \n",
              "NLog             NULLPTR_DEREFERENCE               30  \n",
              "                 PULSE_RESOURCE_LEAK               75  \n",
              "                 THREAD_SAFETY_VIOLATION           44  \n",
              "btcpayserver     NULLPTR_DEREFERENCE                4  \n",
              "                 PULSE_RESOURCE_LEAK                6  \n",
              "                 THREAD_SAFETY_VIOLATION            4  \n",
              "efcore           NULLPTR_DEREFERENCE              107  \n",
              "                 PULSE_RESOURCE_LEAK                2  \n",
              "                 THREAD_SAFETY_VIOLATION            8  \n",
              "litedb           NULLPTR_DEREFERENCE                1  \n",
              "                 PULSE_RESOURCE_LEAK                7  \n",
              "                 THREAD_SAFETY_VIOLATION            6  \n",
              "moq4             PULSE_RESOURCE_LEAK                1  \n",
              "nunit.sarif      NULLPTR_DEREFERENCE               26  \n",
              "                 PULSE_RESOURCE_LEAK              192  \n",
              "                 THREAD_SAFETY_VIOLATION            7  \n",
              "spbu-homeworks-1 PULSE_RESOURCE_LEAK                1  \n",
              "                 THREAD_SAFETY_VIOLATION            4  "
            ],
            "text/html": [
              "\n",
              "  <div id=\"df-8277a833-9a48-4090-bfa8-6b9faaf26bd2\">\n",
              "    <div class=\"colab-df-container\">\n",
              "      <div>\n",
              "<style scoped>\n",
              "    .dataframe tbody tr th:only-of-type {\n",
              "        vertical-align: middle;\n",
              "    }\n",
              "\n",
              "    .dataframe tbody tr th {\n",
              "        vertical-align: top;\n",
              "    }\n",
              "\n",
              "    .dataframe thead th {\n",
              "        text-align: right;\n",
              "    }\n",
              "</style>\n",
              "<table border=\"1\" class=\"dataframe\">\n",
              "  <thead>\n",
              "    <tr style=\"text-align: right;\">\n",
              "      <th></th>\n",
              "      <th></th>\n",
              "      <th>message</th>\n",
              "      <th>level</th>\n",
              "      <th>location</th>\n",
              "      <th>report_name</th>\n",
              "    </tr>\n",
              "    <tr>\n",
              "      <th>project</th>\n",
              "      <th>rule_id</th>\n",
              "      <th></th>\n",
              "      <th></th>\n",
              "      <th></th>\n",
              "      <th></th>\n",
              "    </tr>\n",
              "  </thead>\n",
              "  <tbody>\n",
              "    <tr>\n",
              "      <th rowspan=\"3\" valign=\"top\">NLog</th>\n",
              "      <th>NULLPTR_DEREFERENCE</th>\n",
              "      <td>30</td>\n",
              "      <td>30</td>\n",
              "      <td>30</td>\n",
              "      <td>30</td>\n",
              "    </tr>\n",
              "    <tr>\n",
              "      <th>PULSE_RESOURCE_LEAK</th>\n",
              "      <td>75</td>\n",
              "      <td>75</td>\n",
              "      <td>75</td>\n",
              "      <td>75</td>\n",
              "    </tr>\n",
              "    <tr>\n",
              "      <th>THREAD_SAFETY_VIOLATION</th>\n",
              "      <td>44</td>\n",
              "      <td>44</td>\n",
              "      <td>44</td>\n",
              "      <td>44</td>\n",
              "    </tr>\n",
              "    <tr>\n",
              "      <th rowspan=\"3\" valign=\"top\">btcpayserver</th>\n",
              "      <th>NULLPTR_DEREFERENCE</th>\n",
              "      <td>4</td>\n",
              "      <td>4</td>\n",
              "      <td>4</td>\n",
              "      <td>4</td>\n",
              "    </tr>\n",
              "    <tr>\n",
              "      <th>PULSE_RESOURCE_LEAK</th>\n",
              "      <td>6</td>\n",
              "      <td>6</td>\n",
              "      <td>6</td>\n",
              "      <td>6</td>\n",
              "    </tr>\n",
              "    <tr>\n",
              "      <th>THREAD_SAFETY_VIOLATION</th>\n",
              "      <td>4</td>\n",
              "      <td>4</td>\n",
              "      <td>4</td>\n",
              "      <td>4</td>\n",
              "    </tr>\n",
              "    <tr>\n",
              "      <th rowspan=\"3\" valign=\"top\">efcore</th>\n",
              "      <th>NULLPTR_DEREFERENCE</th>\n",
              "      <td>107</td>\n",
              "      <td>107</td>\n",
              "      <td>107</td>\n",
              "      <td>107</td>\n",
              "    </tr>\n",
              "    <tr>\n",
              "      <th>PULSE_RESOURCE_LEAK</th>\n",
              "      <td>2</td>\n",
              "      <td>2</td>\n",
              "      <td>2</td>\n",
              "      <td>2</td>\n",
              "    </tr>\n",
              "    <tr>\n",
              "      <th>THREAD_SAFETY_VIOLATION</th>\n",
              "      <td>8</td>\n",
              "      <td>8</td>\n",
              "      <td>8</td>\n",
              "      <td>8</td>\n",
              "    </tr>\n",
              "    <tr>\n",
              "      <th rowspan=\"3\" valign=\"top\">litedb</th>\n",
              "      <th>NULLPTR_DEREFERENCE</th>\n",
              "      <td>1</td>\n",
              "      <td>1</td>\n",
              "      <td>1</td>\n",
              "      <td>1</td>\n",
              "    </tr>\n",
              "    <tr>\n",
              "      <th>PULSE_RESOURCE_LEAK</th>\n",
              "      <td>7</td>\n",
              "      <td>7</td>\n",
              "      <td>7</td>\n",
              "      <td>7</td>\n",
              "    </tr>\n",
              "    <tr>\n",
              "      <th>THREAD_SAFETY_VIOLATION</th>\n",
              "      <td>6</td>\n",
              "      <td>6</td>\n",
              "      <td>6</td>\n",
              "      <td>6</td>\n",
              "    </tr>\n",
              "    <tr>\n",
              "      <th>moq4</th>\n",
              "      <th>PULSE_RESOURCE_LEAK</th>\n",
              "      <td>1</td>\n",
              "      <td>1</td>\n",
              "      <td>1</td>\n",
              "      <td>1</td>\n",
              "    </tr>\n",
              "    <tr>\n",
              "      <th rowspan=\"3\" valign=\"top\">nunit.sarif</th>\n",
              "      <th>NULLPTR_DEREFERENCE</th>\n",
              "      <td>26</td>\n",
              "      <td>26</td>\n",
              "      <td>26</td>\n",
              "      <td>26</td>\n",
              "    </tr>\n",
              "    <tr>\n",
              "      <th>PULSE_RESOURCE_LEAK</th>\n",
              "      <td>192</td>\n",
              "      <td>192</td>\n",
              "      <td>192</td>\n",
              "      <td>192</td>\n",
              "    </tr>\n",
              "    <tr>\n",
              "      <th>THREAD_SAFETY_VIOLATION</th>\n",
              "      <td>7</td>\n",
              "      <td>7</td>\n",
              "      <td>7</td>\n",
              "      <td>7</td>\n",
              "    </tr>\n",
              "    <tr>\n",
              "      <th rowspan=\"2\" valign=\"top\">spbu-homeworks-1</th>\n",
              "      <th>PULSE_RESOURCE_LEAK</th>\n",
              "      <td>1</td>\n",
              "      <td>1</td>\n",
              "      <td>1</td>\n",
              "      <td>1</td>\n",
              "    </tr>\n",
              "    <tr>\n",
              "      <th>THREAD_SAFETY_VIOLATION</th>\n",
              "      <td>4</td>\n",
              "      <td>4</td>\n",
              "      <td>4</td>\n",
              "      <td>4</td>\n",
              "    </tr>\n",
              "  </tbody>\n",
              "</table>\n",
              "</div>\n",
              "      <button class=\"colab-df-convert\" onclick=\"convertToInteractive('df-8277a833-9a48-4090-bfa8-6b9faaf26bd2')\"\n",
              "              title=\"Convert this dataframe to an interactive table.\"\n",
              "              style=\"display:none;\">\n",
              "        \n",
              "  <svg xmlns=\"http://www.w3.org/2000/svg\" height=\"24px\"viewBox=\"0 0 24 24\"\n",
              "       width=\"24px\">\n",
              "    <path d=\"M0 0h24v24H0V0z\" fill=\"none\"/>\n",
              "    <path d=\"M18.56 5.44l.94 2.06.94-2.06 2.06-.94-2.06-.94-.94-2.06-.94 2.06-2.06.94zm-11 1L8.5 8.5l.94-2.06 2.06-.94-2.06-.94L8.5 2.5l-.94 2.06-2.06.94zm10 10l.94 2.06.94-2.06 2.06-.94-2.06-.94-.94-2.06-.94 2.06-2.06.94z\"/><path d=\"M17.41 7.96l-1.37-1.37c-.4-.4-.92-.59-1.43-.59-.52 0-1.04.2-1.43.59L10.3 9.45l-7.72 7.72c-.78.78-.78 2.05 0 2.83L4 21.41c.39.39.9.59 1.41.59.51 0 1.02-.2 1.41-.59l7.78-7.78 2.81-2.81c.8-.78.8-2.07 0-2.86zM5.41 20L4 18.59l7.72-7.72 1.47 1.35L5.41 20z\"/>\n",
              "  </svg>\n",
              "      </button>\n",
              "      \n",
              "  <style>\n",
              "    .colab-df-container {\n",
              "      display:flex;\n",
              "      flex-wrap:wrap;\n",
              "      gap: 12px;\n",
              "    }\n",
              "\n",
              "    .colab-df-convert {\n",
              "      background-color: #E8F0FE;\n",
              "      border: none;\n",
              "      border-radius: 50%;\n",
              "      cursor: pointer;\n",
              "      display: none;\n",
              "      fill: #1967D2;\n",
              "      height: 32px;\n",
              "      padding: 0 0 0 0;\n",
              "      width: 32px;\n",
              "    }\n",
              "\n",
              "    .colab-df-convert:hover {\n",
              "      background-color: #E2EBFA;\n",
              "      box-shadow: 0px 1px 2px rgba(60, 64, 67, 0.3), 0px 1px 3px 1px rgba(60, 64, 67, 0.15);\n",
              "      fill: #174EA6;\n",
              "    }\n",
              "\n",
              "    [theme=dark] .colab-df-convert {\n",
              "      background-color: #3B4455;\n",
              "      fill: #D2E3FC;\n",
              "    }\n",
              "\n",
              "    [theme=dark] .colab-df-convert:hover {\n",
              "      background-color: #434B5C;\n",
              "      box-shadow: 0px 1px 3px 1px rgba(0, 0, 0, 0.15);\n",
              "      filter: drop-shadow(0px 1px 2px rgba(0, 0, 0, 0.3));\n",
              "      fill: #FFFFFF;\n",
              "    }\n",
              "  </style>\n",
              "\n",
              "      <script>\n",
              "        const buttonEl =\n",
              "          document.querySelector('#df-8277a833-9a48-4090-bfa8-6b9faaf26bd2 button.colab-df-convert');\n",
              "        buttonEl.style.display =\n",
              "          google.colab.kernel.accessAllowed ? 'block' : 'none';\n",
              "\n",
              "        async function convertToInteractive(key) {\n",
              "          const element = document.querySelector('#df-8277a833-9a48-4090-bfa8-6b9faaf26bd2');\n",
              "          const dataTable =\n",
              "            await google.colab.kernel.invokeFunction('convertToInteractive',\n",
              "                                                     [key], {});\n",
              "          if (!dataTable) return;\n",
              "\n",
              "          const docLinkHtml = 'Like what you see? Visit the ' +\n",
              "            '<a target=\"_blank\" href=https://colab.research.google.com/notebooks/data_table.ipynb>data table notebook</a>'\n",
              "            + ' to learn more about interactive tables.';\n",
              "          element.innerHTML = '';\n",
              "          dataTable['output_type'] = 'display_data';\n",
              "          await google.colab.output.renderOutput(dataTable, element);\n",
              "          const docLink = document.createElement('div');\n",
              "          docLink.innerHTML = docLinkHtml;\n",
              "          element.appendChild(docLink);\n",
              "        }\n",
              "      </script>\n",
              "    </div>\n",
              "  </div>\n",
              "  "
            ]
          },
          "metadata": {},
          "execution_count": 26
        }
      ]
    },
    {
      "cell_type": "code",
      "source": [
        "infer_efcore = infer_df[infer_df['project'] == 'efcore']"
      ],
      "metadata": {
        "id": "vtNhddjxVHz7"
      },
      "execution_count": 28,
      "outputs": []
    },
    {
      "cell_type": "code",
      "source": [
        "nd = infer_df[(infer_df['project'] == 'efcore') & (infer_df['rule_id'] == 'NULLPTR_DEREFERENCE')]"
      ],
      "metadata": {
        "id": "lMDg6GpUVWWJ"
      },
      "execution_count": 40,
      "outputs": []
    },
    {
      "cell_type": "code",
      "source": [
        "nd['location'].nunique()"
      ],
      "metadata": {
        "colab": {
          "base_uri": "https://localhost:8080/"
        },
        "id": "uiVUD9i-XgQ6",
        "outputId": "242e571f-84ec-4160-b0ac-1077c19b9185"
      },
      "execution_count": 44,
      "outputs": [
        {
          "output_type": "execute_result",
          "data": {
            "text/plain": [
              "107"
            ]
          },
          "metadata": {},
          "execution_count": 44
        }
      ]
    }
  ]
}